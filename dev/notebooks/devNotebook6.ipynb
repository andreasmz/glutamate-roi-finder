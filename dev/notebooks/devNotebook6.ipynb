{
 "cells": [
  {
   "cell_type": "markdown",
   "metadata": {},
   "source": [
    "# Glutamate ROI Finder Dev Notebook 6\n",
    "Created 12.08.24 <br>\n",
    "Topic: Gaussian fit to images"
   ]
  },
  {
   "cell_type": "code",
   "execution_count": 1,
   "metadata": {},
   "outputs": [],
   "source": [
    "import os, sys\n",
    "import numpy as np"
   ]
  },
  {
   "cell_type": "code",
   "execution_count": 2,
   "metadata": {},
   "outputs": [],
   "source": [
    "#glutamate_roi_finder_Path = os.path.join(os.path.join(os.path.join(os.path.abspath(\"\"), os.pardir), os.pardir), \"glutamate_roi_finder\")\n",
    "glutamate_roi_finder_Path = os.path.join(os.path.join(os.path.abspath(\"\"), os.pardir), os.pardir)\n",
    "sys.path.insert(1, glutamate_roi_finder_Path)\n",
    "import glutamate_roi_finder as grf\n",
    "%matplotlib inline  "
   ]
  },
  {
   "cell_type": "code",
   "execution_count": 4,
   "metadata": {},
   "outputs": [
    {
     "name": "stdout",
     "output_type": "stream",
     "text": [
      "114016\n",
      "MainThread\n"
     ]
    }
   ],
   "source": [
    "import threading\n",
    "print(threading.get_ident())\n",
    "print(threading.current_thread().name)"
   ]
  },
  {
   "cell_type": "code",
   "execution_count": 5,
   "metadata": {},
   "outputs": [
    {
     "name": "stderr",
     "output_type": "stream",
     "text": [
      "Exception ignored in: <function Variable.__del__ at 0x0000026CD4BA8720>\n",
      "Traceback (most recent call last):\n",
      "  File \"c:\\Users\\abril\\.conda\\envs\\imagej\\envs\\pyimagej\\Lib\\tkinter\\__init__.py\", line 414, in __del__\n",
      "    if self._tk.getboolean(self._tk.call(\"info\", \"exists\", self._name)):\n",
      "                           ^^^^^^^^^^^^^^^^^^^^^^^^^^^^^^^^^^^^^^^^^^^\n",
      "RuntimeError: main thread is not in main loop\n",
      "Exception ignored in: <function Variable.__del__ at 0x0000026CD4BA8720>\n",
      "Traceback (most recent call last):\n",
      "  File \"c:\\Users\\abril\\.conda\\envs\\imagej\\envs\\pyimagej\\Lib\\tkinter\\__init__.py\", line 414, in __del__\n",
      "    if self._tk.getboolean(self._tk.call(\"info\", \"exists\", self._name)):\n",
      "                           ^^^^^^^^^^^^^^^^^^^^^^^^^^^^^^^^^^^^^^^^^^^\n",
      "RuntimeError: main thread is not in main loop\n",
      "Exception ignored in: <function Variable.__del__ at 0x0000026CD4BA8720>\n",
      "Traceback (most recent call last):\n",
      "  File \"c:\\Users\\abril\\.conda\\envs\\imagej\\envs\\pyimagej\\Lib\\tkinter\\__init__.py\", line 414, in __del__\n",
      "    if self._tk.getboolean(self._tk.call(\"info\", \"exists\", self._name)):\n",
      "                           ^^^^^^^^^^^^^^^^^^^^^^^^^^^^^^^^^^^^^^^^^^^\n",
      "RuntimeError: main thread is not in main loop\n"
     ]
    }
   ],
   "source": [
    "grf.Start()"
   ]
  },
  {
   "cell_type": "code",
   "execution_count": 4,
   "metadata": {},
   "outputs": [
    {
     "name": "stderr",
     "output_type": "stream",
     "text": [
      "Exception ignored in: <function Variable.__del__ at 0x0000026CD4BA8720>\n",
      "Traceback (most recent call last):\n",
      "  File \"c:\\Users\\abril\\.conda\\envs\\imagej\\envs\\pyimagej\\Lib\\tkinter\\__init__.py\", line 414, in __del__\n",
      "    if self._tk.getboolean(self._tk.call(\"info\", \"exists\", self._name)):\n",
      "                           ^^^^^^^^^^^^^^^^^^^^^^^^^^^^^^^^^^^^^^^^^^^\n",
      "RuntimeError: main thread is not in main loop\n",
      "Exception ignored in: <function Variable.__del__ at 0x0000026CD4BA8720>\n",
      "Traceback (most recent call last):\n",
      "  File \"c:\\Users\\abril\\.conda\\envs\\imagej\\envs\\pyimagej\\Lib\\tkinter\\__init__.py\", line 414, in __del__\n",
      "    if self._tk.getboolean(self._tk.call(\"info\", \"exists\", self._name)):\n",
      "                           ^^^^^^^^^^^^^^^^^^^^^^^^^^^^^^^^^^^^^^^^^^^\n",
      "RuntimeError: main thread is not in main loop\n",
      "Exception ignored in: <function Variable.__del__ at 0x0000026CD4BA8720>\n",
      "Traceback (most recent call last):\n",
      "  File \"c:\\Users\\abril\\.conda\\envs\\imagej\\envs\\pyimagej\\Lib\\tkinter\\__init__.py\", line 414, in __del__\n",
      "    if self._tk.getboolean(self._tk.call(\"info\", \"exists\", self._name)):\n",
      "                           ^^^^^^^^^^^^^^^^^^^^^^^^^^^^^^^^^^^^^^^^^^^\n",
      "RuntimeError: main thread is not in main loop\n",
      "Exception ignored in: <function Variable.__del__ at 0x0000026CD4BA8720>\n",
      "Traceback (most recent call last):\n",
      "  File \"c:\\Users\\abril\\.conda\\envs\\imagej\\envs\\pyimagej\\Lib\\tkinter\\__init__.py\", line 414, in __del__\n",
      "    if self._tk.getboolean(self._tk.call(\"info\", \"exists\", self._name)):\n",
      "                           ^^^^^^^^^^^^^^^^^^^^^^^^^^^^^^^^^^^^^^^^^^^\n",
      "RuntimeError: main thread is not in main loop\n"
     ]
    },
    {
     "name": "stdout",
     "output_type": "stream",
     "text": [
      "\n"
     ]
    }
   ],
   "source": [
    "import threading\n",
    "guitask = threading.Thread(target=grf.Start)\n",
    "guitask.start()"
   ]
  },
  {
   "cell_type": "code",
   "execution_count": 8,
   "metadata": {},
   "outputs": [
    {
     "name": "stdout",
     "output_type": "stream",
     "text": [
      "None\n"
     ]
    }
   ],
   "source": [
    "print(grf.API.GetDiffImg())"
   ]
  },
  {
   "cell_type": "code",
   "execution_count": 4,
   "metadata": {},
   "outputs": [
    {
     "ename": "AttributeError",
     "evalue": "'NoneType' object has no attribute 'shape'",
     "output_type": "error",
     "traceback": [
      "\u001b[1;31m---------------------------------------------------------------------------\u001b[0m",
      "\u001b[1;31mAttributeError\u001b[0m                            Traceback (most recent call last)",
      "Cell \u001b[1;32mIn[4], line 1\u001b[0m\n\u001b[1;32m----> 1\u001b[0m \u001b[38;5;28mprint\u001b[39m(\u001b[43mapi\u001b[49m\u001b[38;5;241;43m.\u001b[39;49m\u001b[43mgui\u001b[49m\u001b[38;5;241;43m.\u001b[39;49m\u001b[43mdetectDiff\u001b[49m\u001b[38;5;241;43m.\u001b[39;49m\u001b[43mimgDiff\u001b[49m\u001b[38;5;241;43m.\u001b[39;49m\u001b[43mshape\u001b[49m)\n\u001b[0;32m      2\u001b[0m imgDiffTimeMax \u001b[38;5;241m=\u001b[39m np\u001b[38;5;241m.\u001b[39mmax(gui\u001b[38;5;241m.\u001b[39mdetectDiff\u001b[38;5;241m.\u001b[39mimgDiff,axis\u001b[38;5;241m=\u001b[39m(\u001b[38;5;241m1\u001b[39m,\u001b[38;5;241m2\u001b[39m))\n\u001b[0;32m      3\u001b[0m \u001b[38;5;28mprint\u001b[39m(imgDiffTimeMax\u001b[38;5;241m.\u001b[39mshape)\n",
      "\u001b[1;31mAttributeError\u001b[0m: 'NoneType' object has no attribute 'shape'"
     ]
    }
   ],
   "source": [
    "print(api.gui.detectDiff.imgDiff.shape)\n",
    "imgDiffTimeMax = np.max(gui.detectDiff.imgDiff,axis=(1,2))\n",
    "print(imgDiffTimeMax.shape)"
   ]
  }
 ],
 "metadata": {
  "kernelspec": {
   "display_name": "Python 3",
   "language": "python",
   "name": "python3"
  },
  "language_info": {
   "codemirror_mode": {
    "name": "ipython",
    "version": 3
   },
   "file_extension": ".py",
   "mimetype": "text/x-python",
   "name": "python",
   "nbconvert_exporter": "python",
   "pygments_lexer": "ipython3",
   "version": "3.12.4"
  }
 },
 "nbformat": 4,
 "nbformat_minor": 2
}
